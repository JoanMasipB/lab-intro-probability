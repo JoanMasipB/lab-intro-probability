{
 "cells": [
  {
   "cell_type": "markdown",
   "metadata": {},
   "source": [
    "# Lab | Intro to Probability"
   ]
  },
  {
   "cell_type": "markdown",
   "metadata": {},
   "source": [
    "**Objective**\n",
    "\n",
    "Welcome to this Intro to Probability lab, where we explore decision-making scenarios through the lens of probability and strategic analysis. In the business world, making informed decisions is crucial, especially when faced with uncertainties. This lab focuses on scenarios where probabilistic outcomes play a significant role in shaping strategies and outcomes. Students will engage in exercises that require assessing and choosing optimal paths based on data-driven insights. The goal is to enhance your skills by applying probability concepts to solve real-world problems."
   ]
  },
  {
   "cell_type": "markdown",
   "metadata": {},
   "source": [
    "**Challenge 1**"
   ]
  },
  {
   "cell_type": "markdown",
   "metadata": {},
   "source": [
    "#### Ironhack Airlines \n",
    "\n",
    "Often Airlines sell more tickets than they have seats available, this is called overbooking. Consider the following:\n",
    "- A plane has 450 seats. \n",
    "- Based on historical data we conclude that each individual passenger has a 3% chance of missing it's flight. \n",
    "\n",
    "If the Ironhack Airlines routinely sells 460 tickets, what is the chance that they have a seats for all passenger?"
   ]
  },
  {
   "cell_type": "code",
   "execution_count": null,
   "metadata": {},
   "outputs": [
    {
     "name": "stdout",
     "output_type": "stream",
     "text": [
      "The probability that Ironhack Airlines has enough seats for all passengers is approximately 0.8845\n"
     ]
    }
   ],
   "source": [
    "import scipy.stats as stats\n",
    "\n",
    "# Given values\n",
    "n_seats = 450\n",
    "n_tickets = 460\n",
    "p_miss = 0.03\n",
    "\n",
    "# Calculate the cumulative probability of having n_show_up_needed or fewer passengers showing up\n",
    "prob_seats_available = stats.binom.cdf(n_seats, n_tickets, 1 - p_miss)\n",
    "\n",
    "print(f\"The probability that Ironhack Airlines has enough seats for all passengers is approximately {prob_seats_available:.4f}\")\n",
    "# more 88.45% of the time the Ironhack Airlines will be okay, they are screwed 11.55% of the time."
   ]
  },
  {
   "cell_type": "markdown",
   "metadata": {},
   "source": [
    "**Challenge 2**"
   ]
  },
  {
   "cell_type": "markdown",
   "metadata": {},
   "source": [
    "#### Ironhack Call Center "
   ]
  },
  {
   "cell_type": "markdown",
   "metadata": {},
   "source": [
    "Suppose a customer service representative at a call center is handling customer complaints. Consider the following:\n",
    "- The probability of successfully resolving a customer complaint on the first attempt is 0.3. \n",
    "\n",
    "\n",
    "What is the probability that the representative needs to make at least three attempts before successfully resolving a customer complaint?"
   ]
  },
  {
   "cell_type": "code",
   "execution_count": null,
   "metadata": {},
   "outputs": [
    {
     "name": "stdout",
     "output_type": "stream",
     "text": [
      "The probability that the representative needs to make at least three attempts is approximately 0.4900\n"
     ]
    }
   ],
   "source": [
    "# Given values\n",
    "p = 0.3\n",
    "q = 1 - p\n",
    "\n",
    "prob_within_two_attempts = p + (q * p)\n",
    "\n",
    "# Probability of needing at least three attempts\n",
    "prob_at_least_three_attempts = 1 - prob_within_two_attempts\n",
    "\n",
    "print(f\"The probability that the representative needs to make at least three attempts is approximately {prob_at_least_three_attempts:.4f}\")"
   ]
  },
  {
   "cell_type": "markdown",
   "metadata": {},
   "source": [
    "**Challenge 3**"
   ]
  },
  {
   "cell_type": "markdown",
   "metadata": {},
   "source": [
    "#### Ironhack Website"
   ]
  },
  {
   "cell_type": "markdown",
   "metadata": {},
   "source": [
    "Consider a scenario related to Ironhack website traffic. Where:\n",
    "- our website takes on average 500 visits per hour.\n",
    "- the website's server is designed to handle up to 550 vists per hour.\n",
    "\n",
    "\n",
    "What is the probability of the website server being overwhelmed?"
   ]
  },
  {
   "cell_type": "code",
   "execution_count": 30,
   "metadata": {},
   "outputs": [
    {
     "data": {
      "text/plain": [
       "np.float64(0.01289822084039205)"
      ]
     },
     "execution_count": 30,
     "metadata": {},
     "output_type": "execute_result"
    }
   ],
   "source": [
    "from scipy.stats import poisson\n",
    "\n",
    "lambda_visits = 500\n",
    "server_capacity = 550\n",
    "\n",
    "probability_overwhelmed = 1 - poisson.cdf(server_capacity, lambda_visits)\n",
    "probability_overwhelmed\n"
   ]
  },
  {
   "cell_type": "markdown",
   "metadata": {},
   "source": [
    "What is the probability of being overwhelmed at some point during a day? (consider 24hours)"
   ]
  },
  {
   "cell_type": "code",
   "execution_count": 31,
   "metadata": {},
   "outputs": [
    {
     "name": "stdout",
     "output_type": "stream",
     "text": [
      "The probability of the website server being overwhelmed at least once in 24 hours is approximately 0.2677\n"
     ]
    }
   ],
   "source": [
    "prob_not_overwhelmed = 1 - prob_overwhelmed\n",
    "\n",
    "prob_not_overwhelmed_24_hours = prob_not_overwhelmed ** 24\n",
    "\n",
    "prob_overwhelmed_24_hours = 1 - prob_not_overwhelmed_24_hours\n",
    "\n",
    "print(f\"The probability of the website server being overwhelmed at least once in 24 hours is approximately {prob_overwhelmed_24_hours:.4f}\")\n"
   ]
  },
  {
   "cell_type": "markdown",
   "metadata": {},
   "source": [
    "**Challenge 4**"
   ]
  },
  {
   "cell_type": "markdown",
   "metadata": {},
   "source": [
    "#### Ironhack Helpdesk"
   ]
  },
  {
   "cell_type": "markdown",
   "metadata": {},
   "source": [
    "Consider a scenario related to the time between arrivals of customers at a service desk.\n",
    "\n",
    "On average, a customers arrives every 10minutes.\n",
    "\n",
    "What is the probability that the next customer will arrive within the next 5 minutes?"
   ]
  },
  {
   "cell_type": "code",
   "execution_count": null,
   "metadata": {},
   "outputs": [
    {
     "data": {
      "text/plain": [
       "0.3934693402873666"
      ]
     },
     "execution_count": 32,
     "metadata": {},
     "output_type": "execute_result"
    }
   ],
   "source": [
    "import math\n",
    "\n",
    "mean_interarrival_time = 10\n",
    "time_threshold = 5\n",
    "\n",
    "lambda_rate = 1 / mean_interarrival_time\n",
    "\n",
    "prob_within_5_minutes = 1 - math.exp(-lambda_rate * time_threshold)\n",
    "prob_within_5_minutes\n",
    "# The probability that the next customer will arrive within the next 5 minutes is approximately 39.35%. ​​"
   ]
  },
  {
   "cell_type": "markdown",
   "metadata": {},
   "source": [
    "If there is no customer for 15minutes, employees can that a 5minutes break.\n",
    "\n",
    "What is the probability an employee taking a break?"
   ]
  },
  {
   "cell_type": "code",
   "execution_count": null,
   "metadata": {},
   "outputs": [
    {
     "data": {
      "text/plain": [
       "0.22313016014842982"
      ]
     },
     "execution_count": 33,
     "metadata": {},
     "output_type": "execute_result"
    }
   ],
   "source": [
    "time_no_arrivals = 15\n",
    "\n",
    "prob_no_customers_15 = math.exp(-lambda_rate * time_no_arrivals)\n",
    "prob_no_customers_15"
   ]
  },
  {
   "cell_type": "markdown",
   "metadata": {},
   "source": [
    "**Challenge 5**"
   ]
  },
  {
   "cell_type": "markdown",
   "metadata": {},
   "source": [
    "The weights of a certain species of birds follow a normal distribution with a mean weight of 150 grams and a standard deviation of 10 grams. \n",
    "\n",
    "- If we randomly select a bird, what is the probability that its weight is between 140 and 160 grams?"
   ]
  },
  {
   "cell_type": "code",
   "execution_count": 34,
   "metadata": {},
   "outputs": [
    {
     "data": {
      "text/plain": [
       "np.float64(0.6826894921370859)"
      ]
     },
     "execution_count": 34,
     "metadata": {},
     "output_type": "execute_result"
    }
   ],
   "source": [
    "from scipy.stats import norm\n",
    "\n",
    "mean_weight = 150\n",
    "std_dev = 10\n",
    "lower_bound = 140\n",
    "upper_bound = 160\n",
    "\n",
    "prob_between = norm.cdf(upper_bound, mean_weight, std_dev) - norm.cdf(lower_bound, mean_weight, std_dev)\n",
    "prob_between\n"
   ]
  },
  {
   "cell_type": "markdown",
   "metadata": {},
   "source": [
    "**Challenge 6**"
   ]
  },
  {
   "cell_type": "markdown",
   "metadata": {},
   "source": [
    "If the lifetime (in hours) of a certain electronic component follows an exponential distribution with a mean lifetime of 50 hours, what is the probability that the component fails within the first 30 hours?"
   ]
  },
  {
   "cell_type": "code",
   "execution_count": 35,
   "metadata": {},
   "outputs": [
    {
     "data": {
      "text/plain": [
       "0.4511883639059735"
      ]
     },
     "execution_count": 35,
     "metadata": {},
     "output_type": "execute_result"
    }
   ],
   "source": [
    "mean_lifetime = 50\n",
    "time_to_fail = 30\n",
    "\n",
    "lambda_rate = 1 / mean_lifetime\n",
    "\n",
    "prob_fail_30_hours = 1 - math.exp(-lambda_rate * time_to_fail)\n",
    "prob_fail_30_hours\n"
   ]
  }
 ],
 "metadata": {
  "kernelspec": {
   "display_name": "Python 3",
   "language": "python",
   "name": "python3"
  },
  "language_info": {
   "codemirror_mode": {
    "name": "ipython",
    "version": 3
   },
   "file_extension": ".py",
   "mimetype": "text/x-python",
   "name": "python",
   "nbconvert_exporter": "python",
   "pygments_lexer": "ipython3",
   "version": "3.10.8"
  }
 },
 "nbformat": 4,
 "nbformat_minor": 2
}
